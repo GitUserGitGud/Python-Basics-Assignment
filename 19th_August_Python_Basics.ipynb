{
 "cells": [
  {
   "cell_type": "markdown",
   "id": "876dd51e",
   "metadata": {},
   "source": [
    "# 19th_August_Python_Basics\n",
    "## TOPIC: Python Basics Variable\n",
    "1. Declare two variables, `x` and `y`, and assign them integer values. Swap the\n",
    "values of these variables without using any temporary variable."
   ]
  },
  {
   "cell_type": "code",
   "execution_count": 1,
   "id": "2dd0c6fc",
   "metadata": {},
   "outputs": [
    {
     "name": "stdout",
     "output_type": "stream",
     "text": [
      "1 49\n",
      "49 1\n"
     ]
    }
   ],
   "source": [
    "x = 1\n",
    "y = 49\n",
    "print(x,y)\n",
    "x,y = y,x\n",
    "print(x,y)"
   ]
  },
  {
   "cell_type": "markdown",
   "id": "9fd39066",
   "metadata": {},
   "source": [
    "2. Create a program that calculates the area of a rectangle. Take the length and\n",
    "width as inputs from the user and store them in variables. Calculate and\n",
    "display the area."
   ]
  },
  {
   "cell_type": "code",
   "execution_count": 2,
   "id": "0cb4d36c",
   "metadata": {},
   "outputs": [
    {
     "name": "stdout",
     "output_type": "stream",
     "text": [
      "Enter Length:23\n",
      "Enter Width:32\n",
      "Area =  736  sq. units\n"
     ]
    }
   ],
   "source": [
    "l = int(input(\"Enter Length:\"))\n",
    "b = int(input(\"Enter Width:\"))\n",
    "print(\"Area = \", l*b, \" sq. units\")"
   ]
  },
  {
   "cell_type": "markdown",
   "id": "6537c261",
   "metadata": {},
   "source": [
    "3. Write a Python program that converts temperatures from Celsius to\n",
    "Fahrenheit. Take the temperature in Celsius as input, store it in a variable,\n",
    "convert it to Fahrenheit, and display the result."
   ]
  },
  {
   "cell_type": "code",
   "execution_count": 3,
   "id": "d5729377",
   "metadata": {},
   "outputs": [
    {
     "name": "stdout",
     "output_type": "stream",
     "text": [
      "Enter Temperature in Celsius: 35\n",
      "Temperature in Fahrenheit =  95.0 \n"
     ]
    }
   ],
   "source": [
    "ctemp = float(input(\"Enter Temperature in Celsius: \"))\n",
    "ftemp = ((ctemp * (9/5)) + 32)\n",
    "print(\"Temperature in Fahrenheit = \", ftemp,\"\")"
   ]
  },
  {
   "cell_type": "markdown",
   "id": "411b62fa",
   "metadata": {},
   "source": [
    "## TOPIC: String Based Questions\n",
    "1. Write a Python program that takes a string as input and prints the length of\n",
    "the string."
   ]
  },
  {
   "cell_type": "code",
   "execution_count": 4,
   "id": "94e8108d",
   "metadata": {},
   "outputs": [
    {
     "name": "stdout",
     "output_type": "stream",
     "text": [
      "Enter string: Hello, I am Onyx. I am a ground Pokemon.\n",
      "Length of given string is:  40\n"
     ]
    }
   ],
   "source": [
    "s = input(\"Enter string: \")\n",
    "sz = len(s)\n",
    "print(\"Length of given string is: \",sz)"
   ]
  },
  {
   "cell_type": "markdown",
   "id": "c6947bfd",
   "metadata": {},
   "source": [
    "2. Create a program that takes a sentence from the user and counts the number\n",
    "of vowels (a, e, i, o, u) in the string."
   ]
  },
  {
   "cell_type": "code",
   "execution_count": 5,
   "id": "c0adfd38",
   "metadata": {},
   "outputs": [
    {
     "name": "stdout",
     "output_type": "stream",
     "text": [
      "Enter a sentence: If you had a strange name, would you change it? Or would you appreciate it? \n",
      "Number of vowels in given sentence is: 25\n"
     ]
    }
   ],
   "source": [
    "sen = input(\"Enter a sentence: \")\n",
    "vow = 0\n",
    "for i in sen:\n",
    "    if i in [\"a\",\"e\",\"i\",\"o\",\"u\"]:\n",
    "        vow = vow+1\n",
    "print(\"Number of vowels in given sentence is:\", vow)"
   ]
  },
  {
   "cell_type": "markdown",
   "id": "aacbaf2e",
   "metadata": {},
   "source": [
    "3. Given a string, reverse the order of characters using string slicing and print\n",
    "the reversed string."
   ]
  },
  {
   "cell_type": "code",
   "execution_count": 6,
   "id": "b4aa958f",
   "metadata": {},
   "outputs": [
    {
     "name": "stdout",
     "output_type": "stream",
     "text": [
      "Give the string: Take it.\n",
      "Reverse of this string is:  .ti ekaT\n"
     ]
    }
   ],
   "source": [
    "giv = input(\"Give the string: \")\n",
    "rev = giv[::-1]\n",
    "print(\"Reverse of this string is: \", rev)"
   ]
  },
  {
   "cell_type": "markdown",
   "id": "d11683f9",
   "metadata": {},
   "source": [
    "4. Write a program that takes a string as input and checks if it is a palindrome\n",
    "(reads the same forwards and backwards)."
   ]
  },
  {
   "cell_type": "code",
   "execution_count": 7,
   "id": "9991cfc0",
   "metadata": {},
   "outputs": [
    {
     "name": "stdout",
     "output_type": "stream",
     "text": [
      "Enter input string: WoW\n",
      "Given String is Palindrome.\n"
     ]
    }
   ],
   "source": [
    "take = input(\"Enter input string: \")\n",
    "re = take[::-1]\n",
    "if take==re:\n",
    "    print(\"Given String is Palindrome.\")\n",
    "else:\n",
    "    print(\"It's Not Palindrome.\")"
   ]
  },
  {
   "cell_type": "markdown",
   "id": "61d910a9",
   "metadata": {},
   "source": [
    "5. Create a program that takes a string as input and removes all the spaces from\n",
    "it. Print the modified string without spaces."
   ]
  },
  {
   "cell_type": "code",
   "execution_count": 8,
   "id": "634b9f00",
   "metadata": {},
   "outputs": [
    {
     "name": "stdout",
     "output_type": "stream",
     "text": [
      "Enter string with space: Buzz Lightyear, The space Ranger.\n",
      "String without space:  BuzzLightyear,ThespaceRanger.\n"
     ]
    }
   ],
   "source": [
    "witspc = input(\"Enter string with space: \")\n",
    "spl = witspc.split()\n",
    "nospc = \"\"\n",
    "for i in spl:\n",
    "    nospc = nospc+i\n",
    "print(\"String without space: \", nospc)"
   ]
  },
  {
   "cell_type": "code",
   "execution_count": null,
   "id": "52f45688",
   "metadata": {},
   "outputs": [],
   "source": []
  }
 ],
 "metadata": {
  "kernelspec": {
   "display_name": "Python 3 (ipykernel)",
   "language": "python",
   "name": "python3"
  },
  "language_info": {
   "codemirror_mode": {
    "name": "ipython",
    "version": 3
   },
   "file_extension": ".py",
   "mimetype": "text/x-python",
   "name": "python",
   "nbconvert_exporter": "python",
   "pygments_lexer": "ipython3",
   "version": "3.9.7"
  }
 },
 "nbformat": 4,
 "nbformat_minor": 5
}
